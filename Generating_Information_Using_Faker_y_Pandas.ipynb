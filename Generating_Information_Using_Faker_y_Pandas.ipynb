{
 "cells": [
  {
   "cell_type": "code",
   "execution_count": 1,
   "metadata": {},
   "outputs": [
    {
     "name": "stdout",
     "output_type": "stream",
     "text": [
      "Requirement already satisfied: pandas in c:\\users\\cse\\anaconda3\\lib\\site-packages (2.1.4)\n",
      "Collecting faker\n",
      "  Downloading Faker-25.9.1-py3-none-any.whl.metadata (15 kB)\n",
      "Requirement already satisfied: openpyxl in c:\\users\\cse\\anaconda3\\lib\\site-packages (3.0.10)\n",
      "Requirement already satisfied: numpy<2,>=1.23.2 in c:\\users\\cse\\anaconda3\\lib\\site-packages (from pandas) (1.26.4)\n",
      "Requirement already satisfied: python-dateutil>=2.8.2 in c:\\users\\cse\\anaconda3\\lib\\site-packages (from pandas) (2.8.2)\n",
      "Requirement already satisfied: pytz>=2020.1 in c:\\users\\cse\\anaconda3\\lib\\site-packages (from pandas) (2023.3.post1)\n",
      "Requirement already satisfied: tzdata>=2022.1 in c:\\users\\cse\\anaconda3\\lib\\site-packages (from pandas) (2023.3)\n",
      "Requirement already satisfied: et_xmlfile in c:\\users\\cse\\anaconda3\\lib\\site-packages (from openpyxl) (1.1.0)\n",
      "Requirement already satisfied: six>=1.5 in c:\\users\\cse\\anaconda3\\lib\\site-packages (from python-dateutil>=2.8.2->pandas) (1.16.0)\n",
      "Downloading Faker-25.9.1-py3-none-any.whl (1.8 MB)\n",
      "   ---------------------------------------- 0.0/1.8 MB ? eta -:--:--\n",
      "   ---------------------------------------- 0.0/1.8 MB ? eta -:--:--\n",
      "    --------------------------------------- 0.0/1.8 MB 660.6 kB/s eta 0:00:03\n",
      "   -- ------------------------------------- 0.1/1.8 MB 1.7 MB/s eta 0:00:02\n",
      "   ---------- ----------------------------- 0.5/1.8 MB 3.5 MB/s eta 0:00:01\n",
      "   ------------------ --------------------- 0.8/1.8 MB 4.8 MB/s eta 0:00:01\n",
      "   --------------------------- ------------ 1.2/1.8 MB 5.7 MB/s eta 0:00:01\n",
      "   ------------------------------------ --- 1.6/1.8 MB 6.1 MB/s eta 0:00:01\n",
      "   ---------------------------------------  1.8/1.8 MB 6.7 MB/s eta 0:00:01\n",
      "   ---------------------------------------  1.8/1.8 MB 6.7 MB/s eta 0:00:01\n",
      "   ---------------------------------------- 1.8/1.8 MB 4.8 MB/s eta 0:00:00\n",
      "Installing collected packages: faker\n",
      "Successfully installed faker-25.9.1\n",
      "Note: you may need to restart the kernel to use updated packages.\n"
     ]
    }
   ],
   "source": [
    "pip install pandas faker openpyxl"
   ]
  },
  {
   "cell_type": "code",
   "execution_count": 2,
   "metadata": {},
   "outputs": [],
   "source": [
    "import pandas as pd\n",
    "from faker import Faker"
   ]
  },
  {
   "cell_type": "code",
   "execution_count": 4,
   "metadata": {},
   "outputs": [
    {
     "name": "stdout",
     "output_type": "stream",
     "text": [
      "Data successfully saved to C:\\Users\\CSE\\Desktop\\GPT\\data.xlsx\n"
     ]
    }
   ],
   "source": [
    "# Initialize the Faker library\n",
    "fake = Faker()\n",
    "\n",
    "# Number of entries to generate\n",
    "num_entries = 500\n",
    "\n",
    "# Create lists to hold the data\n",
    "first_names = []\n",
    "last_names = []\n",
    "birthdays = []\n",
    "countries = []\n",
    "emails = []\n",
    "phone_numbers = []\n",
    "\n",
    "# Populate the lists with fake data\n",
    "for _ in range(num_entries):\n",
    "    first_names.append(fake.first_name())\n",
    "    last_names.append(fake.last_name())\n",
    "    birthdays.append(fake.date_of_birth(minimum_age=10, maximum_age=100).strftime(\"%Y-%m-%d\"))\n",
    "    countries.append(fake.country())\n",
    "    emails.append(fake.email())\n",
    "    phone_numbers.append(fake.phone_number())\n",
    "\n",
    "# Create a DataFrame\n",
    "data = {\n",
    "    \"First Name\": first_names,\n",
    "    \"Last Name\": last_names,\n",
    "    \"Birthday\": birthdays,\n",
    "    \"Country\": countries,\n",
    "    \"Email\": emails,\n",
    "    \"Phone Number\": phone_numbers\n",
    "}\n",
    "df = pd.DataFrame(data)\n",
    "\n",
    "# Save the DataFrame to an Excel file\n",
    "excel_file = r\"C:\\Users\\CSE\\Desktop\\GPT\\data.xlsx\"\n",
    "df.to_excel(excel_file, index=False)\n",
    "\n",
    "print(f\"Data successfully saved to {excel_file}\")\n"
   ]
  }
 ],
 "metadata": {
  "kernelspec": {
   "display_name": "base",
   "language": "python",
   "name": "python3"
  },
  "language_info": {
   "codemirror_mode": {
    "name": "ipython",
    "version": 3
   },
   "file_extension": ".py",
   "mimetype": "text/x-python",
   "name": "python",
   "nbconvert_exporter": "python",
   "pygments_lexer": "ipython3",
   "version": "3.11.7"
  }
 },
 "nbformat": 4,
 "nbformat_minor": 2
}
